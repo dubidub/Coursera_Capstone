{
  "nbformat": 4,
  "nbformat_minor": 0,
  "metadata": {
    "colab": {
      "name": "A Review of Accessible Education Resources in Taipei City (using Places API).ipynb",
      "provenance": [],
      "collapsed_sections": [],
      "authorship_tag": "ABX9TyOfL7xfWRgHFVbzLJqzL7v3"
    },
    "kernelspec": {
      "name": "python3",
      "display_name": "Python 3"
    }
  },
  "cells": [
    {
      "cell_type": "code",
      "metadata": {
        "id": "MQgW9cS-AahF"
      },
      "source": [
        "import numpy as np  \n",
        "import pandas as pd \n",
        "!conda install -c conda-forge folium=0.5.0 --yes\n",
        "import folium\n",
        "!conda install -c conda-forge geopy --yes \n",
        "from geopy.geocoders import Nominatim \n",
        "import matplotlib.cm as cm\n",
        "import matplotlib.colors as colors\n",
        "from sklearn.cluster import KMeans\n",
        "import plotly.express as px\n",
        "from urllib.request import urlopen\n",
        "from pandas.io.json import json_normalize\n",
        "import json\n",
        "import requests \n",
        "from shapely.geometry import shape, Point\n",
        "import seaborn as sns\n",
        "import matplotlib.pyplot as plt\n",
        "from folium import IFrame\n",
        "from google.colab import files\n",
        "from time import sleep"
      ],
      "execution_count": null,
      "outputs": []
    },
    {
      "cell_type": "code",
      "metadata": {
        "id": "Ncpy5_8AWhKS"
      },
      "source": [
        "# Load Taipei GeoJSON file\n",
        "\n",
        "with urlopen('https://raw.githubusercontent.com/littlebtc/geodata4appy/master/simplified/taipei.geojson') as response:\n",
        "    tp = json.load(response)"
      ],
      "execution_count": null,
      "outputs": []
    },
    {
      "cell_type": "code",
      "metadata": {
        "id": "8IWvCZnLwami"
      },
      "source": [
        "# Check on map \n",
        "address = 'Taipei'\n",
        "\n",
        "geolocator = Nominatim(user_agent=\"tp_explorer\")\n",
        "location = geolocator.geocode(address)\n",
        "latitude = location.latitude\n",
        "longitude = location.longitude\n",
        "\n",
        "tp_map = folium.Map(location=[latitude, longitude], zoom_start=12)\n",
        "\n",
        "folium.GeoJson(\n",
        "    tp,\n",
        "    name='geojson'\n",
        ").add_to(tp_map)\n",
        "\n",
        "tp_map"
      ],
      "execution_count": null,
      "outputs": []
    },
    {
      "cell_type": "code",
      "metadata": {
        "id": "yVaGGfb_jVPa"
      },
      "source": [
        "# Check in dataframe\n",
        "df_tp = json_normalize(tp['features'])\n",
        "\n",
        "# Rename column names for later use\n",
        "df_tp.rename(columns={'properties.TVNAME':'dist_neigh', \n",
        "                      'properties.PNAME':'city',\n",
        "                      'properties.TNAME':'dist',\n",
        "                      'properties.VNAME':'neigh'\n",
        "                      }, \n",
        "             inplace=True)\n",
        "\n",
        "df_tp.tail()"
      ],
      "execution_count": null,
      "outputs": []
    },
    {
      "cell_type": "code",
      "metadata": {
        "id": "6597R6QluY2W"
      },
      "source": [
        "# Functions to find the centroid of a polygon in GeoJSON file\n",
        "# Credited to brandonxiang/geojson-python-utils: https://github.com/brandonxiang/geojson-python-utils/blob/develop/README_CN.md\n",
        "\n",
        "def centroid(poly):\n",
        "    \"\"\"\n",
        "    get the centroid of polygon\n",
        "    adapted from http://paulbourke.net/geometry/polyarea/javascript.txt\n",
        "    Keyword arguments:\n",
        "    poly -- polygon geojson object\n",
        "    return polygon centroid\n",
        "    \"\"\"\n",
        "    f_total = 0\n",
        "    x_total = 0\n",
        "    y_total = 0\n",
        "    # TODO: polygon holes at coordinates[1]\n",
        "    points = poly['coordinates'][0]\n",
        "    j = len(points) - 1\n",
        "    count = len(points)\n",
        "\n",
        "    for i in range(0, count):\n",
        "        p1_x = points[i][1]\n",
        "        p1_y = points[i][0]\n",
        "        p2_x = points[j][1]\n",
        "        p2_y = points[j][0]\n",
        "\n",
        "        f_total = p1_x * p2_y - p2_x * p1_y\n",
        "        x_total += (p1_x + p2_x) * f_total\n",
        "        y_total += (p1_y + p2_y) * f_total\n",
        "        j = i\n",
        "\n",
        "    six_area = area(poly) * 6\n",
        "    return {'type': 'Point', 'coordinates': [y_total / six_area, x_total / six_area]}\n",
        "\n",
        "def area(poly):\n",
        "    \"\"\"\n",
        "    calculate the area of polygon\n",
        "    Keyword arguments:\n",
        "    poly -- polygon geojson object\n",
        "    return polygon area\n",
        "    \"\"\"\n",
        "    poly_area = 0\n",
        "    # TODO: polygon holes at coordinates[1]\n",
        "    points = poly['coordinates'][0]\n",
        "    j = len(points) - 1\n",
        "    count = len(points)\n",
        "\n",
        "    for i in range(0, count):\n",
        "        p1_x = points[i][1]\n",
        "        p1_y = points[i][0]\n",
        "        p2_x = points[j][1]\n",
        "        p2_y = points[j][0]\n",
        "\n",
        "        poly_area += p1_x * p2_y\n",
        "        poly_area -= p1_y * p2_x\n",
        "        j = i\n",
        "\n",
        "    poly_area /= 2\n",
        "    return poly_area"
      ],
      "execution_count": null,
      "outputs": []
    },
    {
      "cell_type": "code",
      "metadata": {
        "id": "7RcpryJDJXQ6"
      },
      "source": [
        "# Find centroid of every neighborhood and add the laitudes and longitudes to new columns \n",
        "\n",
        "tp_lon = []\n",
        "tp_lat = []\n",
        "\n",
        "for i in range(456):\n",
        "  box = tp['features'][i]['geometry']\n",
        "  center = centroid(box)\n",
        "  tp_lon.append(center['coordinates'][0])\n",
        "  tp_lat.append(center['coordinates'][1])\n",
        "\n",
        "df_tp['Latitude'] = tp_lat\n",
        "df_tp['Longitude'] = tp_lon\n",
        "\n",
        "df_tp.tail()"
      ],
      "execution_count": null,
      "outputs": []
    },
    {
      "cell_type": "code",
      "metadata": {
        "id": "QCeux0SKbbRm"
      },
      "source": [
        "# Solve encoding problem, credited to: https://yafei777.github.io/Yafei-blog/blog/folium-popup/\n",
        "def utf2asc(s):\n",
        "    return str(str(s).encode('ascii', 'xmlcharrefreplace'))[2:-1]"
      ],
      "execution_count": null,
      "outputs": []
    },
    {
      "cell_type": "code",
      "metadata": {
        "id": "bqYavjIkZhso"
      },
      "source": [
        "# Check the covering area of 1500m-radius circles \n",
        "\n",
        "paragraph = \"\"\"<p>{}</p>\"\"\".format\n",
        "\n",
        "for lat, lng, name in zip(df_tp['Latitude'], df_tp['Longitude'], df_tp['dist_neigh']):\n",
        "  label = '{}'.format(name)\n",
        "  iframe = IFrame(html = paragraph(utf2asc(label)), width = 200, height = 100)\n",
        "  popup = folium.Popup(iframe) \n",
        "  folium.Circle(\n",
        "      [lat, lng], \n",
        "      popup=popup, \n",
        "      fill_color='#00FFFFFF', \n",
        "      radius=1500, \n",
        "      weight=2, \n",
        "      color=\"#000\").add_to(tp_map)\n",
        "\n",
        "tp_map"
      ],
      "execution_count": null,
      "outputs": []
    },
    {
      "cell_type": "code",
      "metadata": {
        "id": "gP-K2QjM4IOP"
      },
      "source": [
        "# Add labels for each neighborhoods \n",
        "def add_label():\n",
        "  paragraph = \"\"\"<p>{}</p>\"\"\".format\n",
        "\n",
        "  for lat, lng, dist, neigh in zip(df_tp['Latitude'], df_tp['Longitude'], df_tp['dist'], df_tp['neigh']):\n",
        "    label = '{}, {}'.format(dist, neigh)\n",
        "    iframe = IFrame(html = paragraph(utf2asc(label)),\n",
        "                width=100,\n",
        "                height=50)\n",
        "    popup = folium.Popup(iframe)\n",
        "    folium.CircleMarker(\n",
        "        [lat, lng],\n",
        "        radius = 3,\n",
        "        popup = popup,\n",
        "        color = 'blue',\n",
        "        fill = True,\n",
        "        fill_color = '#3186cc',\n",
        "        fill_opacity = 0.7,\n",
        "        parse_html = False).add_to(map)  \n",
        "\n",
        "  return map"
      ],
      "execution_count": null,
      "outputs": []
    },
    {
      "cell_type": "code",
      "metadata": {
        "id": "sz6YadHmvmI2"
      },
      "source": [
        "# Read Taipei household income data\n",
        "# Source: https://ws.fia.gov.tw/001/upload/ias/isa106/106_165-A.html 106年資料\n",
        "\n",
        "income = pd.read_excel('https://github.com/dubidub/Coursera_Capstone/raw/master/Taiwan%20neighborhood%20income%202017.xlsx')\n",
        "income.rename(\n",
        "  columns={'行政區':'dist', '村里':'neigh', '中位數':'income_median'},\n",
        "  inplace=True\n",
        ")\n",
        "\n",
        "income.sort_values('income_median', ascending=False)"
      ],
      "execution_count": null,
      "outputs": []
    },
    {
      "cell_type": "code",
      "metadata": {
        "id": "_T2SjxJ-yfVL"
      },
      "source": [
        "# Merge income with df_tp\n",
        "\n",
        "# Create the merge key for both df\n",
        "income[\"dist_neigh\"] = income[\"dist\"] + income[\"neigh\"]\n",
        "\n",
        "# Then merge \n",
        "df_tp1 = pd.merge(df_tp, income, on = 'dist_neigh')"
      ],
      "execution_count": null,
      "outputs": []
    },
    {
      "cell_type": "code",
      "metadata": {
        "id": "OykZ7LvM4eAR"
      },
      "source": [
        "df_tp1.head()"
      ],
      "execution_count": null,
      "outputs": []
    },
    {
      "cell_type": "code",
      "metadata": {
        "id": "UfMuY9_B77Mr"
      },
      "source": [
        "# Read Taiwan neighborhoods population data\n",
        "# Source: https://ca.gov.taipei/News_Content.aspx?n=8693DC9620A1AABF&sms=D19E9582624D83CB&s=78DC4B104D9D374E\n",
        "\n",
        "ppl = pd.read_excel('https://github.com/dubidub/Coursera_Capstone/raw/master/Taipei%20Neighborhoods%20population%202019.xlsx')\n",
        "\n",
        "\n",
        "# Sum up populaion under 15\n",
        "ppl.rename(columns={'行政區':'dist', '村里':'neigh',  \n",
        "                    '0歲':'m0', '1歲':'m1', '2歲':'m2', '3歲':'m3', '4歲':'m4',\n",
        "                    '5歲':'m5', '6歲':'m6', '7歲':'m7', '8歲':'m8', '9歲':'m9', \n",
        "                    '10歲':'m10', '11歲':'m11', '12歲':'m12',\n",
        "                    '13歲':'m13', '14歲':'m14', '15歲':'m15',\n",
        "                    },\n",
        "              inplace=True)\n",
        "\n",
        "ppl['under_15'] = ppl.m0 + ppl.m1 + ppl.m2 + ppl.m3 + ppl.m4 + ppl.m5 + ppl.m6 \\\n",
        "                  + ppl.m7 + ppl.m8 + ppl.m9 + ppl.m10 + ppl.m11 + ppl.m12 + \\\n",
        "                  ppl.m13 + ppl.m14 + ppl.m15 \n",
        "\n",
        "ppl.sort_values('under_15', ascending=False)"
      ],
      "execution_count": null,
      "outputs": []
    },
    {
      "cell_type": "code",
      "metadata": {
        "id": "DT24K3CR_eEH"
      },
      "source": [
        "# Merge ppl with df_tp1\n",
        "\n",
        "# Create the merge key for both df\n",
        "ppl[\"dist_neigh\"] = ppl[\"dist\"] + ppl[\"neigh\"]\n",
        "\n",
        "# Then merge \n",
        "df_tp2 = pd.merge(df_tp1, ppl, on = 'dist_neigh')\n",
        "\n",
        "df_tp2.head()"
      ],
      "execution_count": null,
      "outputs": []
    },
    {
      "cell_type": "code",
      "metadata": {
        "id": "VxnBzAm-cS1L"
      },
      "source": [
        "df_tp3 = df_tp2.loc[:, ['dist_neigh', 'Latitude', 'Longitude', 'under_15', 'income_median']]\n",
        "df_tp3.rename(columns={'properties.TVNAME':'dist_neigh', \n",
        "                      'properties.PNAME':'city',\n",
        "                      'properties.TNAME':'dist',\n",
        "                      'properties.VNAME':'neigh'\n",
        "                      }, \n",
        "             inplace=True)"
      ],
      "execution_count": null,
      "outputs": []
    },
    {
      "cell_type": "code",
      "metadata": {
        "id": "tenKJRkB4UwT"
      },
      "source": [
        "# Find the missing values\n",
        "missing = pd.merge(df_tp3, df_tp, on='dist_neigh', how='outer')\n",
        "\n",
        "missing_dist = missing['dist_neigh'].loc[missing['Latitude_x'].isnull()]\n",
        "missing_dist = list(missing_dist)\n",
        "for i in missing_dist:\n",
        "  print(i)"
      ],
      "execution_count": null,
      "outputs": []
    },
    {
      "cell_type": "code",
      "metadata": {
        "id": "UOjlmNoJPr8h"
      },
      "source": [
        "missing['missing'] = missing['Latitude_x'].isnull().astype(int)\n",
        "missing"
      ],
      "execution_count": null,
      "outputs": []
    },
    {
      "cell_type": "code",
      "metadata": {
        "id": "3OIZaekNdaw3"
      },
      "source": [
        "# Show missing neighborhoods on map\n",
        "\n",
        "map = folium.Map(location=[latitude, longitude], zoom_start=12)\n",
        "\n",
        "folium.Choropleth(\n",
        "    geo_data = tp,\n",
        "    name = 'Missing neighborhoods',\n",
        "    data = missing,\n",
        "    columns = ['dist_neigh', 'missing'],\n",
        "    key_on = 'properties.TVNAME',\n",
        "    fill_color = 'YlGn',\n",
        "    fill_opacity = 0.7,\n",
        "    line_opacity = 0.2,\n",
        "    legend_name = 'Missing Neighborhoods').add_to(map)\n",
        "\n",
        "# add_label()\n",
        "\n",
        "map"
      ],
      "execution_count": null,
      "outputs": []
    },
    {
      "cell_type": "code",
      "metadata": {
        "id": "fh5SlDqVCVcD"
      },
      "source": [
        "df_tp3['under_15'].describe()"
      ],
      "execution_count": null,
      "outputs": []
    },
    {
      "cell_type": "code",
      "metadata": {
        "id": "4bx4lUFlfjjY"
      },
      "source": [
        "df_tp3['income_median'].describe()"
      ],
      "execution_count": null,
      "outputs": []
    },
    {
      "cell_type": "code",
      "metadata": {
        "id": "XCnMwk_kwpkd"
      },
      "source": [
        "fig, axs = plt.subplots(ncols=2)\n",
        "fig.set_figwidth(15)\n",
        "sns.distplot(df_tp3['under_15'], ax=axs[0])\n",
        "sns.distplot(df_tp3['income_median'], ax=axs[1])"
      ],
      "execution_count": null,
      "outputs": []
    },
    {
      "cell_type": "code",
      "metadata": {
        "id": "qDxPUYsikyI_"
      },
      "source": [
        "# Show income on map\n",
        "\n",
        "map = folium.Map(location=[latitude, longitude], zoom_start=12)\n",
        "\n",
        "folium.Choropleth(\n",
        "    geo_data = tp,\n",
        "    name = 'Taipei Household income',\n",
        "    data = df_tp3,\n",
        "    columns = ['dist_neigh', 'income_median'],\n",
        "    key_on = 'properties.TVNAME',\n",
        "    fill_color = 'YlGn',\n",
        "    fill_opacity = 0.7,\n",
        "    line_opacity = 0.2,\n",
        "    legend_name = 'Household Income').add_to(map)\n",
        "\n",
        "# add_label()\n",
        "\n",
        "map"
      ],
      "execution_count": null,
      "outputs": []
    },
    {
      "cell_type": "code",
      "metadata": {
        "id": "X9cJii6UCeEY"
      },
      "source": [
        "# Show ppl on map\n",
        "\n",
        "map = folium.Map(location=[latitude, longitude], zoom_start=12)\n",
        "\n",
        "folium.Choropleth(\n",
        "    geo_data = tp,\n",
        "    name = 'under 15 population',\n",
        "    data = df_tp3,\n",
        "    columns = ['dist_neigh', 'income_median'],\n",
        "    key_on = 'properties.TVNAME',\n",
        "    fill_color = 'BuPu',\n",
        "    fill_opacity = 0.7,\n",
        "    line_opacity = 0.2,\n",
        "    legend_name = 'Population').add_to(map)\n",
        "\n",
        "# add_label()\n",
        "\n",
        "map"
      ],
      "execution_count": null,
      "outputs": []
    },
    {
      "cell_type": "markdown",
      "metadata": {
        "id": "BLHWiE-iBL38"
      },
      "source": [
        "# Use Places API to get accessible education resources"
      ]
    },
    {
      "cell_type": "code",
      "metadata": {
        "id": "Dy-4q5CdnUmF"
      },
      "source": [
        "def getNearbyVenues(names, latitudes, longitudes, placesTypes, radius, API_KEY):\n",
        "\n",
        "...\n",
        "\n",
        "    return(nearby_venues)"
      ],
      "execution_count": null,
      "outputs": []
    },
    {
      "cell_type": "code",
      "metadata": {
        "id": "7q6cmmpatWAE"
      },
      "source": [
        "API_KEY = 'YOUR_API_KEY'\n",
        "placesTypes = ['primary_school', 'secondary_school', 'library', 'museum']\n",
        "radius = 1500"
      ],
      "execution_count": null,
      "outputs": []
    },
    {
      "cell_type": "code",
      "metadata": {
        "id": "ldlyUqYcmeW7"
      },
      "source": [
        "tp_venues = getNearbyVenues(df_tp3['dist_neigh'],\n",
        "                            df_tp3['Latitude'],\n",
        "                            df_tp3['Longitude'],\n",
        "                            placesTypes,\n",
        "                            radius,\n",
        "                            API_KEY\n",
        "                            )"
      ],
      "execution_count": null,
      "outputs": []
    },
    {
      "cell_type": "code",
      "metadata": {
        "id": "P0KL9J1sDX3f",
        "outputId": "2c7cc634-7034-45f9-88f8-a089cf4712de",
        "colab": {
          "base_uri": "https://localhost:8080/",
          "height": 399
        }
      },
      "source": [
        "# Check the numbers of accessible education resources of each neighborhood\n",
        "\n",
        "tp_edu = tp_venues.groupby('Neighbourhood')['v_cat'].value_counts().unstack(fill_value=0)\n",
        "tp_edu = tp_edu.reset_index()\n",
        "tp_edu['school'] = tp_edu['primary_school'] + tp_edu['secondary_school']\n",
        "tp_edu['edu_Total'] = tp_edu['library'] + tp_edu['museum'] + tp_edu['school'] \n",
        "tp_edu.rename(columns={'library':'Library', \n",
        "                      'museum':'Museum',\n",
        "                      'school':'School'\n",
        "                      }, \n",
        "              inplace=True)\n",
        "tp_edu.drop(columns=['primary_school', 'secondary_school'], inplace=True)\n",
        "tp_edu.sort_values('edu_Total', ascending=False)"
      ],
      "execution_count": null,
      "outputs": [
        {
          "output_type": "execute_result",
          "data": {
            "text/html": [
              "<div>\n",
              "<style scoped>\n",
              "    .dataframe tbody tr th:only-of-type {\n",
              "        vertical-align: middle;\n",
              "    }\n",
              "\n",
              "    .dataframe tbody tr th {\n",
              "        vertical-align: top;\n",
              "    }\n",
              "\n",
              "    .dataframe thead th {\n",
              "        text-align: right;\n",
              "    }\n",
              "</style>\n",
              "<table border=\"1\" class=\"dataframe\">\n",
              "  <thead>\n",
              "    <tr style=\"text-align: right;\">\n",
              "      <th>v_cat</th>\n",
              "      <th>Neighbourhood</th>\n",
              "      <th>Library</th>\n",
              "      <th>Museum</th>\n",
              "      <th>School</th>\n",
              "      <th>edu_Total</th>\n",
              "    </tr>\n",
              "  </thead>\n",
              "  <tbody>\n",
              "    <tr>\n",
              "      <th>29</th>\n",
              "      <td>中山區民安里</td>\n",
              "      <td>42</td>\n",
              "      <td>59</td>\n",
              "      <td>29</td>\n",
              "      <td>130</td>\n",
              "    </tr>\n",
              "    <tr>\n",
              "      <th>27</th>\n",
              "      <td>中山區正得里</td>\n",
              "      <td>44</td>\n",
              "      <td>58</td>\n",
              "      <td>22</td>\n",
              "      <td>124</td>\n",
              "    </tr>\n",
              "    <tr>\n",
              "      <th>44</th>\n",
              "      <td>中正區南福里</td>\n",
              "      <td>43</td>\n",
              "      <td>44</td>\n",
              "      <td>36</td>\n",
              "      <td>123</td>\n",
              "    </tr>\n",
              "    <tr>\n",
              "      <th>53</th>\n",
              "      <td>中正區文北里</td>\n",
              "      <td>47</td>\n",
              "      <td>50</td>\n",
              "      <td>26</td>\n",
              "      <td>123</td>\n",
              "    </tr>\n",
              "    <tr>\n",
              "      <th>52</th>\n",
              "      <td>中正區愛國里</td>\n",
              "      <td>42</td>\n",
              "      <td>45</td>\n",
              "      <td>32</td>\n",
              "      <td>119</td>\n",
              "    </tr>\n",
              "    <tr>\n",
              "      <th>...</th>\n",
              "      <td>...</td>\n",
              "      <td>...</td>\n",
              "      <td>...</td>\n",
              "      <td>...</td>\n",
              "      <td>...</td>\n",
              "    </tr>\n",
              "    <tr>\n",
              "      <th>197</th>\n",
              "      <td>南港區九如里</td>\n",
              "      <td>0</td>\n",
              "      <td>2</td>\n",
              "      <td>0</td>\n",
              "      <td>2</td>\n",
              "    </tr>\n",
              "    <tr>\n",
              "      <th>157</th>\n",
              "      <td>北投區八仙里</td>\n",
              "      <td>0</td>\n",
              "      <td>2</td>\n",
              "      <td>0</td>\n",
              "      <td>2</td>\n",
              "    </tr>\n",
              "    <tr>\n",
              "      <th>115</th>\n",
              "      <td>內湖區內溝里</td>\n",
              "      <td>0</td>\n",
              "      <td>1</td>\n",
              "      <td>0</td>\n",
              "      <td>1</td>\n",
              "    </tr>\n",
              "    <tr>\n",
              "      <th>257</th>\n",
              "      <td>士林區菁山里</td>\n",
              "      <td>0</td>\n",
              "      <td>1</td>\n",
              "      <td>0</td>\n",
              "      <td>1</td>\n",
              "    </tr>\n",
              "    <tr>\n",
              "      <th>161</th>\n",
              "      <td>北投區大屯里</td>\n",
              "      <td>0</td>\n",
              "      <td>0</td>\n",
              "      <td>1</td>\n",
              "      <td>1</td>\n",
              "    </tr>\n",
              "  </tbody>\n",
              "</table>\n",
              "<p>450 rows × 5 columns</p>\n",
              "</div>"
            ],
            "text/plain": [
              "v_cat Neighbourhood  Library  Museum  School  edu_Total\n",
              "29           中山區民安里       42      59      29        130\n",
              "27           中山區正得里       44      58      22        124\n",
              "44           中正區南福里       43      44      36        123\n",
              "53           中正區文北里       47      50      26        123\n",
              "52           中正區愛國里       42      45      32        119\n",
              "..              ...      ...     ...     ...        ...\n",
              "197          南港區九如里        0       2       0          2\n",
              "157          北投區八仙里        0       2       0          2\n",
              "115          內湖區內溝里        0       1       0          1\n",
              "257          士林區菁山里        0       1       0          1\n",
              "161          北投區大屯里        0       0       1          1\n",
              "\n",
              "[450 rows x 5 columns]"
            ]
          },
          "metadata": {
            "tags": []
          },
          "execution_count": 21
        }
      ]
    },
    {
      "cell_type": "code",
      "metadata": {
        "id": "-8GNTcayg_Se"
      },
      "source": [
        "# Find the missing values\n",
        "tp_edu1 = pd.merge(df_tp3, tp_edu, left_on = 'dist_neigh', right_on='Neighbourhood', how='outer')\n",
        "tp_edu1.drop('Neighbourhood', axis=1, inplace=True)\n",
        "tp_edu1.fillna(0, inplace=True)\n",
        "tp_edu1.sort_values('edu_Total', ascending=False)"
      ],
      "execution_count": null,
      "outputs": []
    },
    {
      "cell_type": "code",
      "metadata": {
        "id": "dCD5JrlSImRq"
      },
      "source": [
        "# Check unique venues\n",
        "tp_venues2 = tp_venues.drop(columns=['Neighbourhood'])\n",
        "tp_venues2.drop_duplicates(inplace=True) \n",
        "\n",
        "u_venues = tp_venues2.v_name.unique()"
      ],
      "execution_count": null,
      "outputs": []
    },
    {
      "cell_type": "code",
      "metadata": {
        "id": "IALmFsfnPBBc"
      },
      "source": [
        "u_venues_df = pd.DataFrame(u_venues)\n",
        "u_venues_df.to_csv('u_venues_df.csv', encoding='utf_8_sig') \n",
        "files.download('u_venues_df.csv')"
      ],
      "execution_count": null,
      "outputs": []
    },
    {
      "cell_type": "code",
      "metadata": {
        "id": "IWDRzGESNRNa"
      },
      "source": [
        "def add_venues(): \n",
        "\n",
        "  paragraph = \"\"\"<p>{}</p>\"\"\".format\n",
        "\n",
        "  for lat, lng, name, cat in zip(tp_venues2['v_latitude'], tp_venues2['v_longitude'], tp_venues2['v_name'], tp_venues2['v_cat']):\n",
        "    if cat == 'primary_school' or cat == 'secondary_school':\n",
        "      color = 'blue'\n",
        "      icon = 'pencil'\n",
        "    elif cat == 'library': \n",
        "      color = 'green'\n",
        "      icon = 'book'\n",
        "    else: \n",
        "      color = 'gray'\n",
        "      icon = 'home'\n",
        "    label = '{}, {}'.format(name, cat)\n",
        "    iframe = IFrame(html = paragraph(utf2asc(label)), width = 200, height = 100)\n",
        "    popup = folium.Popup(iframe)\n",
        "    folium.Marker([lat, lng], popup = popup,\n",
        "                  icon = folium.Icon(icon = icon, color = color),                \n",
        "                  ).add_to(map)  \n",
        "\n",
        "  return map"
      ],
      "execution_count": null,
      "outputs": []
    },
    {
      "cell_type": "code",
      "metadata": {
        "id": "IWuX6XtH7LGf"
      },
      "source": [
        "# Check neighborhoods where venues really locate\n",
        "\n",
        "venue_loc = []\n",
        "\n",
        "for id, venue, lat, lng in zip(tp_venues2['v_id'], tp_venues2['v_name'], tp_venues2['v_latitude'], tp_venues2['v_longitude']):\n",
        "  point = Point(lng, lat)\n",
        "  for feature in tp['features']:\n",
        "    polygon = shape(feature['geometry'])\n",
        "    if polygon.contains(point):\n",
        "        venue_loc.append([id, venue, feature['properties']['TVNAME']])\n",
        "\n",
        "venue_loc = pd.DataFrame(venue_loc, columns = ['v_id', 'v_name', 'venue_neigh']) \n",
        "  \n",
        "venue_loc"
      ],
      "execution_count": null,
      "outputs": []
    },
    {
      "cell_type": "code",
      "metadata": {
        "id": "W2RVBX_3606d"
      },
      "source": [
        "tp_venues3 = pd.merge(tp_venues2, venue_loc, on = 'v_id')"
      ],
      "execution_count": null,
      "outputs": []
    },
    {
      "cell_type": "code",
      "metadata": {
        "id": "rFEiiKAQKZcM"
      },
      "source": [
        "# unique education resources located in Taipei City\n",
        "tp_venues3.shape"
      ],
      "execution_count": null,
      "outputs": []
    },
    {
      "cell_type": "code",
      "metadata": {
        "id": "aUO2ikisA062"
      },
      "source": [
        "# Check the numbers of education resources located in each neighborhood\n",
        "\n",
        "tp_edu2 = tp_venues3.groupby('venue_neigh')['v_cat'].value_counts().unstack(fill_value=0)\n",
        "tp_edu2 = tp_edu2.reset_index()\n",
        "tp_edu2['Total'] = tp_edu2['library'] + tp_edu2['museum'] + tp_edu2['primary_school'] + tp_edu2['secondary_school']\n",
        "tp_edu2.sort_values('Total', ascending=False)"
      ],
      "execution_count": null,
      "outputs": []
    },
    {
      "cell_type": "markdown",
      "metadata": {
        "id": "kB5wRXnpsJ32"
      },
      "source": [
        "# Start Clustering"
      ]
    },
    {
      "cell_type": "code",
      "metadata": {
        "id": "go90JIqXbYaM"
      },
      "source": [
        "tp_edu1"
      ],
      "execution_count": null,
      "outputs": []
    },
    {
      "cell_type": "markdown",
      "metadata": {
        "id": "E7ndoOL4_r4k"
      },
      "source": [
        "## Clustered by numbers of different education resources "
      ]
    },
    {
      "cell_type": "code",
      "metadata": {
        "id": "6ZKYuc7CbTwK"
      },
      "source": [
        "edu_clustering = tp_edu1.loc[:, ['Library', 'Museum', 'School']]\n",
        "edu_clustering"
      ],
      "execution_count": null,
      "outputs": []
    },
    {
      "cell_type": "code",
      "metadata": {
        "id": "3wnyUieVb-3t"
      },
      "source": [
        "kclusters = 5\n",
        "kmeans = KMeans(n_clusters = kclusters, random_state=0)"
      ],
      "execution_count": null,
      "outputs": []
    },
    {
      "cell_type": "code",
      "metadata": {
        "id": "ALet47VRu7jX"
      },
      "source": [
        "kmeans.fit(edu_clustering)"
      ],
      "execution_count": null,
      "outputs": []
    },
    {
      "cell_type": "code",
      "metadata": {
        "id": "fSsS-Vhrr-Xl"
      },
      "source": [
        "edu_clustering.insert(0, 'Cluster1', kmeans.labels_)\n",
        "\n",
        "edu_clustering"
      ],
      "execution_count": null,
      "outputs": []
    },
    {
      "cell_type": "code",
      "metadata": {
        "id": "bLV1y7dYWIKW"
      },
      "source": [
        "dist_neigh = pd.DataFrame(tp_edu1['dist_neigh'])\n",
        "dist_neigh"
      ],
      "execution_count": null,
      "outputs": []
    },
    {
      "cell_type": "code",
      "metadata": {
        "id": "yCQc6W4RWA5I"
      },
      "source": [
        "result = pd.concat([dist_neigh, edu_clustering], axis=1)\n",
        "result"
      ],
      "execution_count": null,
      "outputs": []
    },
    {
      "cell_type": "code",
      "metadata": {
        "id": "D9vxErHZvlUF"
      },
      "source": [
        "cluster_stat = edu_clustering.groupby('Cluster1').agg(['mean', 'count'])\n",
        "cluster_stat"
      ],
      "execution_count": null,
      "outputs": []
    },
    {
      "cell_type": "code",
      "metadata": {
        "id": "GZud4YXQ0Jc2"
      },
      "source": [
        "edu_clustering.loc[edu_clustering['Cluster1'] == 1, 'Cluster1_reassigned'] = 4\n",
        "edu_clustering.loc[edu_clustering['Cluster1'] == 4, 'Cluster1_reassigned'] = 3 \n",
        "edu_clustering.loc[edu_clustering['Cluster1'] == 3, 'Cluster1_reassigned'] = 2 \n",
        "edu_clustering.loc[edu_clustering['Cluster1'] == 0, 'Cluster1_reassigned'] = 1 \n",
        "edu_clustering.loc[edu_clustering['Cluster1'] == 2, 'Cluster1_reassigned'] = 0 \n",
        "edu_clustering"
      ],
      "execution_count": null,
      "outputs": []
    },
    {
      "cell_type": "code",
      "metadata": {
        "id": "JZZS3itC-Srr"
      },
      "source": [
        "edu_clustering.drop('Cluster1', axis=1, inplace=True)\n",
        "edu_clustering.groupby('Cluster1_reassigned').agg(['mean', 'count'])"
      ],
      "execution_count": null,
      "outputs": []
    },
    {
      "cell_type": "code",
      "metadata": {
        "id": "WhVPZKA7Q9tz"
      },
      "source": [
        "tp_edu1.insert(0, 'Cluster1', edu_clustering['Cluster1_reassigned'])\n",
        "\n",
        "tp_edu1"
      ],
      "execution_count": null,
      "outputs": []
    },
    {
      "cell_type": "code",
      "metadata": {
        "id": "H-9-jzeEcR9W"
      },
      "source": [
        "# Show clusters on map\n",
        "\n",
        "map = folium.Map(location=[latitude, longitude], zoom_start=12)\n",
        "\n",
        "folium.Choropleth(\n",
        "    geo_data = tp,\n",
        "    name = 'Accessible Education',\n",
        "    data = tp_edu1,\n",
        "    columns = ['dist_neigh', 'Cluster1'],\n",
        "    key_on = 'properties.TVNAME',\n",
        "    fill_color = 'BuPu',\n",
        "    fill_opacity = 0.7,\n",
        "    line_opacity = 0.2,\n",
        "    legend_name = 'Education Resources').add_to(map)\n",
        "\n",
        "map"
      ],
      "execution_count": null,
      "outputs": []
    },
    {
      "cell_type": "markdown",
      "metadata": {
        "id": "pMVYvanuAT0B"
      },
      "source": [
        "## Clustered by numbers of education resources per capita under 15"
      ]
    },
    {
      "cell_type": "code",
      "metadata": {
        "id": "uHgIs_kXA2ia"
      },
      "source": [
        "edu_clustering1 = tp_edu1.loc[:, ['Library', 'Museum', 'School']]\n",
        "edu_clustering1 = edu_clustering1.div(tp_edu1['under_15'], axis=0)\n",
        "edu_clustering1 = 1000 * edu_clustering1\n",
        "edu_clustering1"
      ],
      "execution_count": null,
      "outputs": []
    },
    {
      "cell_type": "code",
      "metadata": {
        "id": "6qPIUZSuPPVw"
      },
      "source": [
        "edu_clustering1.shape"
      ],
      "execution_count": null,
      "outputs": []
    },
    {
      "cell_type": "code",
      "metadata": {
        "id": "M19VLEwI3cAe"
      },
      "source": [
        "kmeans.fit(edu_clustering1)"
      ],
      "execution_count": null,
      "outputs": []
    },
    {
      "cell_type": "code",
      "metadata": {
        "id": "XN4y889b3l1s"
      },
      "source": [
        "edu_clustering1.insert(0, 'Cluster2', kmeans.labels_)\n",
        "\n",
        "edu_clustering1"
      ],
      "execution_count": null,
      "outputs": []
    },
    {
      "cell_type": "code",
      "metadata": {
        "id": "KWu6b56Ok0eM"
      },
      "source": [
        "result = pd.concat([dist_neigh, edu_clustering1], axis=1)\n",
        "result"
      ],
      "execution_count": null,
      "outputs": []
    },
    {
      "cell_type": "code",
      "metadata": {
        "id": "XVoNCHjy3xnY"
      },
      "source": [
        "cluster_stat1 = edu_clustering1.groupby('Cluster2').agg(['mean', 'count'])\n",
        "cluster_stat1"
      ],
      "execution_count": null,
      "outputs": []
    },
    {
      "cell_type": "code",
      "metadata": {
        "id": "9Wn2K6R73yPa"
      },
      "source": [
        "edu_clustering1.loc[edu_clustering1['Cluster2'] == 4, 'Cluster2_reassigned'] = 4\n",
        "edu_clustering1.loc[edu_clustering1['Cluster2'] == 2, 'Cluster2_reassigned'] = 3 \n",
        "edu_clustering1.loc[edu_clustering1['Cluster2'] == 0, 'Cluster2_reassigned'] = 2 \n",
        "edu_clustering1.loc[edu_clustering1['Cluster2'] == 1, 'Cluster2_reassigned'] = 1 \n",
        "edu_clustering1.loc[edu_clustering1['Cluster2'] == 3, 'Cluster2_reassigned'] = 0 \n",
        "edu_clustering1"
      ],
      "execution_count": null,
      "outputs": []
    },
    {
      "cell_type": "code",
      "metadata": {
        "id": "_K9mVzVc3yJ8"
      },
      "source": [
        "cluster_stat1 = edu_clustering1.groupby('Cluster2_reassigned')['Library', 'Museum', 'School'].mean()\n",
        "cluster_stat1"
      ],
      "execution_count": null,
      "outputs": []
    },
    {
      "cell_type": "code",
      "metadata": {
        "id": "cFVaWKUU8K-L"
      },
      "source": [
        "edu_clustering1.drop('Cluster2', axis=1, inplace=True)\n",
        "edu_clustering1.groupby('Cluster2_reassigned').agg(['mean', 'count'])"
      ],
      "execution_count": null,
      "outputs": []
    },
    {
      "cell_type": "code",
      "metadata": {
        "id": "i9DV0rPaQVac"
      },
      "source": [
        "tp_edu1.insert(0, 'Cluster2', edu_clustering1['Cluster2_reassigned'])\n",
        "\n",
        "tp_edu1.head()"
      ],
      "execution_count": null,
      "outputs": []
    },
    {
      "cell_type": "code",
      "metadata": {
        "id": "DYwej5wySMgR"
      },
      "source": [
        "# Show clusters on map\n",
        "\n",
        "map = folium.Map(location=[latitude, longitude], zoom_start=12)\n",
        "\n",
        "folium.Choropleth(\n",
        "    geo_data = tp,\n",
        "    name = 'Accessible Education',\n",
        "    data = tp_edu1,\n",
        "    columns = ['dist_neigh', 'Cluster2'],\n",
        "    key_on = 'properties.TVNAME',\n",
        "    fill_color = 'BuPu',\n",
        "    fill_opacity = 0.7,\n",
        "    line_opacity = 0.2,\n",
        "    legend_name = 'Education Resources').add_to(map)\n",
        "\n",
        "map"
      ],
      "execution_count": null,
      "outputs": []
    },
    {
      "cell_type": "markdown",
      "metadata": {
        "id": "a3FkZ_PsTkP-"
      },
      "source": [
        "## Clustered by education resources per capita and household income"
      ]
    },
    {
      "cell_type": "code",
      "metadata": {
        "id": "EyBspbNBXGY-"
      },
      "source": [
        "edu_clustering2 = tp_edu1.loc[:, ['edu_Total', 'under_15', 'income_median']]\n",
        "edu_clustering2['edu_per_cap'] = 1000 * edu_clustering2['edu_Total'].div(edu_clustering2['under_15'], axis = 0)\n",
        "edu_clustering2.drop(['edu_Total', 'under_15'], axis = 1, inplace =True)\n",
        "\n",
        "edu_clustering2"
      ],
      "execution_count": null,
      "outputs": []
    },
    {
      "cell_type": "code",
      "metadata": {
        "id": "HJdQeFXbmK5k"
      },
      "source": [
        "result = pd.concat([dist_neigh, edu_clustering2], axis=1)\n",
        "result"
      ],
      "execution_count": null,
      "outputs": []
    },
    {
      "cell_type": "code",
      "metadata": {
        "id": "9mw8aS6sZ15k"
      },
      "source": [
        "edu_clustering2.describe()"
      ],
      "execution_count": null,
      "outputs": []
    },
    {
      "cell_type": "code",
      "metadata": {
        "id": "wpqHjzRLZPu5"
      },
      "source": [
        "normalized_df = (edu_clustering2 - edu_clustering2.min()) / (edu_clustering2.max() - edu_clustering2.min())\n",
        "normalized_df"
      ],
      "execution_count": null,
      "outputs": []
    },
    {
      "cell_type": "code",
      "metadata": {
        "id": "QgJProlT5fzs"
      },
      "source": [
        "kmeans.fit(normalized_df)"
      ],
      "execution_count": null,
      "outputs": []
    },
    {
      "cell_type": "code",
      "metadata": {
        "id": "99wc9uZG5k53"
      },
      "source": [
        "edu_clustering2.insert(0, 'Cluster3', kmeans.labels_)\n",
        "\n",
        "edu_clustering2"
      ],
      "execution_count": null,
      "outputs": []
    },
    {
      "cell_type": "code",
      "metadata": {
        "id": "qXmHS23f5tv7"
      },
      "source": [
        "cluster_stat2 = edu_clustering2.groupby('Cluster3').agg(['mean', 'count'])\n",
        "cluster_stat2"
      ],
      "execution_count": null,
      "outputs": []
    },
    {
      "cell_type": "code",
      "metadata": {
        "id": "19nzjabM6Erk"
      },
      "source": [
        "normalized_df.insert(0, 'Cluster3', kmeans.labels_)\n",
        "\n",
        "normalized_df"
      ],
      "execution_count": null,
      "outputs": []
    },
    {
      "cell_type": "code",
      "metadata": {
        "id": "NaNn2-Ud6Jlz"
      },
      "source": [
        "cluster_stat2 = normalized_df.groupby('Cluster3')['income_median', 'edu_per_cap'].mean()\n",
        "cluster_stat2"
      ],
      "execution_count": null,
      "outputs": []
    },
    {
      "cell_type": "code",
      "metadata": {
        "id": "2fm2uzDG5to_"
      },
      "source": [
        "normalized_df.loc[normalized_df['Cluster3'] == 2, 'Cluster3_reassigned'] = 4\n",
        "normalized_df.loc[normalized_df['Cluster3'] == 1, 'Cluster3_reassigned'] = 3 \n",
        "normalized_df.loc[normalized_df['Cluster3'] == 3, 'Cluster3_reassigned'] = 2 \n",
        "normalized_df.loc[normalized_df['Cluster3'] == 4, 'Cluster3_reassigned'] = 1 \n",
        "normalized_df.loc[normalized_df['Cluster3'] == 0, 'Cluster3_reassigned'] = 0 \n",
        "normalized_df"
      ],
      "execution_count": null,
      "outputs": []
    },
    {
      "cell_type": "code",
      "metadata": {
        "id": "o369uhea_rho"
      },
      "source": [
        "edu_clustering2.insert(0, 'Cluster3_reassigned', normalized_df['Cluster3_reassigned'])\n",
        "edu_clustering2"
      ],
      "execution_count": null,
      "outputs": []
    },
    {
      "cell_type": "code",
      "metadata": {
        "id": "Mhec5BAfmjyL"
      },
      "source": [
        "result = pd.concat([dist_neigh, edu_clustering2], axis=1)\n",
        "result"
      ],
      "execution_count": null,
      "outputs": []
    },
    {
      "cell_type": "code",
      "metadata": {
        "id": "0r1cevHUAVbs"
      },
      "source": [
        "cluster_stat2 = edu_clustering2.groupby('Cluster3_reassigned').agg(['mean', 'count'])\n",
        "cluster_stat2"
      ],
      "execution_count": null,
      "outputs": []
    },
    {
      "cell_type": "code",
      "metadata": {
        "id": "r9rskJmt5tcj"
      },
      "source": [
        "tp_edu1.insert(0, 'Cluster3', normalized_df['Cluster3_reassigned'])\n",
        "\n",
        "tp_edu1.head()"
      ],
      "execution_count": null,
      "outputs": []
    },
    {
      "cell_type": "code",
      "metadata": {
        "id": "FwIFJPQxapBd"
      },
      "source": [
        "# Show clusters on map\n",
        "\n",
        "map = folium.Map(location=[latitude, longitude], zoom_start=12)\n",
        "\n",
        "folium.Choropleth(\n",
        "    geo_data = tp,\n",
        "    name = 'Accessible Education',\n",
        "    data = tp_edu1,\n",
        "    columns = ['dist_neigh', 'Cluster3'],\n",
        "    key_on = 'properties.TVNAME',\n",
        "    fill_color = 'BuPu',\n",
        "    fill_opacity = 0.7,\n",
        "    line_opacity = 0.2,\n",
        "    legend_name = 'Education Resources').add_to(map)\n",
        "\n",
        "map"
      ],
      "execution_count": null,
      "outputs": []
    },
    {
      "cell_type": "code",
      "metadata": {
        "id": "GXJIj7PPavWK"
      },
      "source": [
        "add_label()\n",
        "add_venues()\n",
        "map"
      ],
      "execution_count": null,
      "outputs": []
    }
  ]
}